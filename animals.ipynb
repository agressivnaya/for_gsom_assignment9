{
 "cells": [
  {
   "cell_type": "code",
   "execution_count": 1,
   "id": "adf3c34a-3a37-4bd9-823e-ee9fff9876a4",
   "metadata": {
    "tags": []
   },
   "outputs": [],
   "source": [
    "class Animal:\n",
    "    def __init__(self, genus, name, year_of_birth, color):\n",
    "        self.genus = genus\n",
    "        self.name = name\n",
    "        self.year_of_birth = year_of_birth\n",
    "        self.color = color\n",
    "        \n",
    "    def get_age(self, year):\n",
    "        \"\"\"you pass a year as a parameter and calculate the age of the animal at this year\"\"\"\n",
    "        return year - self.year_of_birth\n",
    "    \n",
    "    def get_info(self):\n",
    "        \"\"\"prints a string like “Kaa is a python” or “Dumbo is an elephant” for a given instance\"\"\"\n",
    "        return f\"{self.name} is a {self.genus}\"\n",
    "\n",
    "    def dossier(self):\n",
    "        return f\"{self.name} ({self.genus}), Year of Birth: {self.year_of_birth}, Color: {self.color}\""
   ]
  },
  {
   "cell_type": "code",
   "execution_count": 2,
   "id": "1c58a99c-396e-458e-9fa7-7f479c9d507a",
   "metadata": {
    "tags": []
   },
   "outputs": [],
   "source": [
    "animals = [\n",
    "    Animal('elephant', 'Dumbo', 1941, 'grey'),\n",
    "    Animal('python', 'Kaa', 1894, 'brown'),\n",
    "    Animal('cat', 'Garfield', 2004, 'yellow'),\n",
    "    Animal('lion', 'Simba', 1994, 'orange'),\n",
    "    Animal('mouse', 'Stuart', 1999, 'white'),\n",
    "    Animal('fish', 'Nemo', 2003, 'striped'),\n",
    "    Animal('crocodile', 'Gena', 1966, 'green')\n",
    "]"
   ]
  },
  {
   "cell_type": "code",
   "execution_count": 3,
   "id": "6bca593b-f821-43b5-9d11-873187473e9d",
   "metadata": {
    "tags": []
   },
   "outputs": [
    {
     "name": "stdout",
     "output_type": "stream",
     "text": [
      "The oldest animal is Kaa, a python, aged 130 years.\n"
     ]
    }
   ],
   "source": [
    "def find_oldest_animal(animals):\n",
    "    oldest_animal = None\n",
    "    current_year = 2024\n",
    "    max_age = -1\n",
    "\n",
    "    for animal in animals:\n",
    "        age = animal.get_age(current_year)\n",
    "        if age > max_age:\n",
    "            max_age = age\n",
    "            oldest_animal = animal\n",
    "\n",
    "    return oldest_animal\n",
    "\n",
    "oldest = find_oldest_animal(animals)\n",
    "if oldest:\n",
    "    print(f\"The oldest animal is {oldest.name}, a {oldest.genus}, aged {oldest.get_age(2024)} years.\")"
   ]
  },
  {
   "cell_type": "code",
   "execution_count": 4,
   "id": "b7deba37-3610-405b-b8a6-566e18330ae2",
   "metadata": {
    "tags": []
   },
   "outputs": [],
   "source": [
    "def write_animals_to_file(animals, filename):\n",
    "    with open('/home/jovyan/MyPy9/'+filename, 'w') as file:\n",
    "        for animal in animals:\n",
    "            file.write(f\"{animal.name}, {animal.genus}\\n\")\n",
    "            \n",
    "write_animals_to_file(animals, 'animals_list.txt')"
   ]
  }
 ],
 "metadata": {
  "kernelspec": {
   "display_name": "Python 3 (ipykernel)",
   "language": "python",
   "name": "python3"
  },
  "language_info": {
   "codemirror_mode": {
    "name": "ipython",
    "version": 3
   },
   "file_extension": ".py",
   "mimetype": "text/x-python",
   "name": "python",
   "nbconvert_exporter": "python",
   "pygments_lexer": "ipython3",
   "version": "3.10.9"
  }
 },
 "nbformat": 4,
 "nbformat_minor": 5
}
